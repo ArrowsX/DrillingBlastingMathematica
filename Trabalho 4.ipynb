{
 "cells": [
  {
   "cell_type": "code",
   "execution_count": 1,
   "metadata": {
    "collapsed": true
   },
   "outputs": [],
   "source": [
    "import math\n",
    "import numpy as np\n",
    "import seaborn as sns\n",
    "import matplotlib as mpl\n",
    "import matplotlib.pyplot as plt\n",
    "import matplotlib.patches as patches\n",
    "%matplotlib inline\n",
    "\n",
    "mpl.rcParams['figure.figsize'] = (10, 10)"
   ]
  },
  {
   "cell_type": "markdown",
   "metadata": {},
   "source": [
    "## Dados"
   ]
  },
  {
   "cell_type": "code",
   "execution_count": 2,
   "metadata": {
    "collapsed": true
   },
   "outputs": [],
   "source": [
    "d = 45 / 1000\n",
    "phi = 89 / 1000\n",
    "\n",
    "alfa = 0.01\n",
    "beta = 0.02\n",
    "c = 0.4\n",
    "\n",
    "Qv = 5\n",
    "Vgas= 0.8\n",
    "\n",
    "dEx = 1400\n",
    "phiEx = [0.025, 0.032, 0.038]\n",
    "LEx = 0.6"
   ]
  },
  {
   "cell_type": "code",
   "execution_count": 3,
   "metadata": {},
   "outputs": [
    {
     "name": "stdout",
     "output_type": "stream",
     "text": [
      "Hole diameter = 45 mm\n",
      "Empty hole = 89 mm \n",
      "Angular deviation = 0.01 m/m\n",
      "Collar deviation = 0.02 m\n",
      "Heat of explosion = 5.0 MJ/kg\n",
      "Gas volume at STP = 0.80 m3/kg\n",
      "Density = 1400 kg/m3\n",
      "Rock constant = 0.4\n"
     ]
    }
   ],
   "source": [
    "print('Hole diameter = %d mm' % (d * 1000))\n",
    "print('Empty hole = %d mm ' % (phi * 1000))\n",
    "print('Angular deviation = %.2f m/m' % alfa)\n",
    "print('Collar deviation = %.2f m' % beta)\n",
    "print('Heat of explosion = %.1f MJ/kg' % Qv)\n",
    "print('Gas volume at STP = %.2f m3/kg' % Vgas)\n",
    "print('Density = %d kg/m3' % dEx)\n",
    "print('Rock constant = %.1f' % c)"
   ]
  },
  {
   "cell_type": "markdown",
   "metadata": {},
   "source": [
    "## Cálculo sobre os explosivos"
   ]
  },
  {
   "cell_type": "code",
   "execution_count": 4,
   "metadata": {
    "collapsed": true
   },
   "outputs": [],
   "source": [
    "Qvo = 5\n",
    "Vgaso = 0.85\n",
    "SLFBanfo = 0.84\n",
    "SLFB = (5*Qv)/(6*Qvo) + Vgas/(6*Vgaso)\n",
    "Sanfo = SLFB / SLFBanfo\n",
    "lEx = [(math.pi * (phi/2)**2 * dEx) for phi in phiEx]"
   ]
  },
  {
   "cell_type": "code",
   "execution_count": 5,
   "metadata": {},
   "outputs": [
    {
     "name": "stdout",
     "output_type": "stream",
     "text": [
      "SFLB = 0.99\n",
      "Sanfo = 1.18\n",
      "Charge concentration\n",
      "Φ(mm) 25 32 38\n",
      "ℓ(kg/m) 0.69 1.13 1.59\n"
     ]
    }
   ],
   "source": [
    "print('SFLB = %.2f' % SLFB)\n",
    "print('Sanfo = %.2f' % Sanfo)\n",
    "print('Charge concentration')\n",
    "print('Φ(mm)', *[int(1000*x) for x in phiEx], sep=' ')\n",
    "print('ℓ(kg/m)', *[round(x, 2) for x in lEx], sep=' ')"
   ]
  },
  {
   "cell_type": "markdown",
   "metadata": {},
   "source": [
    "## Avanço"
   ]
  },
  {
   "cell_type": "code",
   "execution_count": 6,
   "metadata": {
    "collapsed": true
   },
   "outputs": [],
   "source": [
    "H = 0.15 + 34.1 * phi - 39.3 * phi ** 2\n",
    "Ia = 0.95 * H"
   ]
  },
  {
   "cell_type": "code",
   "execution_count": 7,
   "metadata": {},
   "outputs": [
    {
     "name": "stdout",
     "output_type": "stream",
     "text": [
      "Profundidade do furo = 2.9 m\n",
      "Avanço total = 2.7 m\n"
     ]
    }
   ],
   "source": [
    "print('Profundidade do furo = %.1f m' % H)\n",
    "print('Avanço total = %.1f m' %Ia)"
   ]
  },
  {
   "cell_type": "markdown",
   "metadata": {},
   "source": [
    "## Desvio de perfuração"
   ]
  },
  {
   "cell_type": "code",
   "execution_count": 8,
   "metadata": {
    "collapsed": true
   },
   "outputs": [],
   "source": [
    "F = alfa * H + beta\n",
    "deltaF = F / H * 100"
   ]
  },
  {
   "cell_type": "code",
   "execution_count": 9,
   "metadata": {},
   "outputs": [
    {
     "name": "stdout",
     "output_type": "stream",
     "text": [
      "Desvio de perfuração: 0.05\n",
      "Desvio de perfuração percentual: 1.70\n"
     ]
    }
   ],
   "source": [
    "print('Desvio de perfuração: %.2f' % F)\n",
    "print('Desvio de perfuração percentual: %.2f' % deltaF)"
   ]
  },
  {
   "cell_type": "markdown",
   "metadata": {},
   "source": [
    "## Pilão - funções de ajuda"
   ]
  },
  {
   "cell_type": "code",
   "execution_count": 10,
   "metadata": {
    "collapsed": true
   },
   "outputs": [],
   "source": [
    "def calculo_Bp(A, l):\n",
    "    return 0.088 * math.sqrt((A * l * Sanfo) / (d * c))\n",
    "\n",
    "def adequar_B(A):\n",
    "    B_lista = [calculo_Bp(A, l) for l in lEx]\n",
    "    r = [abs(2*A - B) for B in B_lista]\n",
    "    min_index = r.index(min(r))\n",
    "    return B_lista[min_index]\n",
    "\n",
    "def adequar_l(x):\n",
    "    r = [abs(x - l) for l in lEx]\n",
    "    min_index = r.index(min(r))\n",
    "    return lEx[min_index], phiEx[min_index]\n",
    "\n",
    "def arredondar_cartucho(x):\n",
    "    return int(5 * round(x/.5)) / 10"
   ]
  },
  {
   "cell_type": "markdown",
   "metadata": {},
   "source": [
    "## Pilão - Cartuchos"
   ]
  },
  {
   "cell_type": "code",
   "execution_count": 11,
   "metadata": {
    "collapsed": true
   },
   "outputs": [],
   "source": [
    "T = 10 * d\n",
    "nCEx = arredondar_cartucho((H - T) / LEx)"
   ]
  },
  {
   "cell_type": "markdown",
   "metadata": {
    "collapsed": true
   },
   "source": [
    "## Pilão - Primeiro Quadrilátero"
   ]
  },
  {
   "cell_type": "code",
   "execution_count": 12,
   "metadata": {
    "collapsed": true
   },
   "outputs": [],
   "source": [
    "B1 = 1.7 * phi\n",
    "B1p = 1.5 * phi if deltaF < 1 else 1.7 * phi - F\n",
    "A1 = math.sqrt(2) * B1p\n",
    "l1, t1 = adequar_l(55 * d * (B1/phi)**1.5 * (B1-phi/2) * (c/0.4) * (1/Sanfo))"
   ]
  },
  {
   "cell_type": "code",
   "execution_count": 13,
   "metadata": {},
   "outputs": [
    {
     "name": "stdout",
     "output_type": "stream",
     "text": [
      "Maximum burden B = 0.15 m\n",
      "Practical burden B1 = 0.10 m\n",
      "Charge concentration = 0.69 kg/m\n",
      "Unloaded hole length = 0.45 m\n",
      "Hole distance in quadrangle A' = 0.15 m\n",
      "No. of 25 x 600 cartriges = 4.0\n"
     ]
    }
   ],
   "source": [
    "print('Maximum burden B = %.2f m' % B1)\n",
    "print('Practical burden B1 = %.2f m' % B1p)\n",
    "print('Charge concentration = %.2f kg/m' % l1)\n",
    "print('Unloaded hole length = %.2f m' % T)\n",
    "print('Hole distance in quadrangle A\\' = %.2f m' % A1)\n",
    "print('No. of %d x %d cartriges = %.1f' % (t1*1000, LEx*1000, nCEx))"
   ]
  },
  {
   "cell_type": "markdown",
   "metadata": {},
   "source": [
    "## Pilão - Segundo Quadrilátero"
   ]
  },
  {
   "cell_type": "code",
   "execution_count": 14,
   "metadata": {
    "collapsed": true
   },
   "outputs": [],
   "source": [
    "A1_ = math.sqrt(2) * (B1p - F)\n",
    "B2 = adequar_B(A1_)\n",
    "B2p = B2 - F\n",
    "A2 = math.sqrt(2) * (B2p + A1/2)\n",
    "l2, t2 = adequar_l(55 * d * (B2/phi)**1.5 * (B2-phi/2) * (c/0.4) * (1/Sanfo))"
   ]
  },
  {
   "cell_type": "code",
   "execution_count": 15,
   "metadata": {},
   "outputs": [
    {
     "name": "stdout",
     "output_type": "stream",
     "text": [
      "A = 0.08 m\n",
      "Maximum burden B = 0.16 m\n",
      "Practical burden B2 = 0.11 m\n",
      "Charge concentration = 0.69 kg/m\n",
      "Unloaded hole length = 0.45 m\n",
      "Hole distance in quadrangle A' = 0.26 m\n",
      "No. of 25 x 600 cartriges = 4.0\n"
     ]
    }
   ],
   "source": [
    "print('A = %.2f m' % A1_)\n",
    "print('Maximum burden B = %.2f m' % B2)\n",
    "print('Practical burden B2 = %.2f m' % B2p)\n",
    "print('Charge concentration = %.2f kg/m' % l2)\n",
    "print('Unloaded hole length = %.2f m' % T)\n",
    "print('Hole distance in quadrangle A\\' = %.2f m' % A2)\n",
    "print('No. of %d x %d cartriges = %.1f' % (t2*1000, LEx*1000, nCEx))"
   ]
  },
  {
   "cell_type": "markdown",
   "metadata": {},
   "source": [
    "## Pilão - Terceiro Quadrilátero"
   ]
  },
  {
   "cell_type": "code",
   "execution_count": 16,
   "metadata": {
    "collapsed": true
   },
   "outputs": [],
   "source": [
    "A2_ = math.sqrt(2) * (B2p + A1/2 - F)\n",
    "B3 = adequar_B(A2_)\n",
    "B3p = B3 - F\n",
    "A3 = math.sqrt(2) * (B3p + A2/2)\n",
    "l3, t3 = adequar_l(55 * d * (B3/phi)**1.5 * (B3-phi/2) * (c/0.4) * (1/Sanfo))"
   ]
  },
  {
   "cell_type": "code",
   "execution_count": 17,
   "metadata": {},
   "outputs": [
    {
     "name": "stdout",
     "output_type": "stream",
     "text": [
      "A = 0.20 m\n",
      "Maximum burden B = 0.40 m\n",
      "Practical burden B3 = 0.35 m\n",
      "Charge concentration = 1.59 kg/m\n",
      "Unloaded hole length = 0.45 m\n",
      "Hole distance in quadrangle A' = 0.68 m\n",
      "No. of 38 x 600 cartriges = 4.0\n"
     ]
    }
   ],
   "source": [
    "print('A = %.2f m' % A2_)\n",
    "print('Maximum burden B = %.2f m' % B3)\n",
    "print('Practical burden B3 = %.2f m' % B3p)\n",
    "print('Charge concentration = %.2f kg/m' % l3)\n",
    "print('Unloaded hole length = %.2f m' % T)\n",
    "print('Hole distance in quadrangle A\\' = %.2f m' % A3)\n",
    "print('No. of %d x %d cartriges = %.1f' % (t3*1000, LEx*1000, nCEx))"
   ]
  },
  {
   "cell_type": "markdown",
   "metadata": {},
   "source": [
    "## Pilão - Quarto Quadrilátero"
   ]
  },
  {
   "cell_type": "code",
   "execution_count": 18,
   "metadata": {
    "collapsed": true
   },
   "outputs": [],
   "source": [
    "A3_ = math.sqrt(2) * (B3p + A2/2 - F)\n",
    "B4 = adequar_B(A3_)\n",
    "B4p = B4 - F\n",
    "A4 = math.sqrt(2) * (B4p + A3/2)\n",
    "l4, t4 = adequar_l(55 * d * (B4/phi)**1.5 * (B4-phi/2) * (c/0.4) * (1/Sanfo))"
   ]
  },
  {
   "cell_type": "code",
   "execution_count": 19,
   "metadata": {},
   "outputs": [
    {
     "name": "stdout",
     "output_type": "stream",
     "text": [
      "A = 0.61\n",
      "Maximum burden B = 0.70\n",
      "Practical burden B4 = 0.65\n",
      "Charge concentration = 1.59 kg/m\n",
      "Unloaded hole length = 0.45 m\n",
      "Hole distance in quadrangle A' = 1.40\n",
      "No. of 38 x 600 cartriges = 4.0\n"
     ]
    }
   ],
   "source": [
    "print('A = %.2f' % A3_)\n",
    "print('Maximum burden B = %.2f' % B4)\n",
    "print('Practical burden B4 = %.2f' % B4p)\n",
    "print('Charge concentration = %.2f kg/m' % l4)\n",
    "print('Unloaded hole length = %.2f m' % T)\n",
    "print('Hole distance in quadrangle A\\' = %.2f' % A4)\n",
    "print('No. of %d x %d cartriges = %.1f' % (t4*1000, LEx*1000, nCEx))"
   ]
  },
  {
   "cell_type": "markdown",
   "metadata": {},
   "source": [
    "## Desenho do Pilão"
   ]
  },
  {
   "cell_type": "code",
   "execution_count": 20,
   "metadata": {},
   "outputs": [
    {
     "data": {
      "image/png": "[encoded data removed]",
      "text/plain": [
       "<matplotlib.figure.Figure at 0x113f49f98>"
      ]
     },
     "metadata": {},
     "output_type": "display_data"
    }
   ],
   "source": [
    "fig = plt.figure()\n",
    "ax = fig.add_subplot(111)\n",
    "\n",
    "plt.xlim(-0.1, A4+0.1)\n",
    "plt.ylim(-0.1, A4+0.1)\n",
    "\n",
    "# Furo vazio\n",
    "xc, yc = (A4/2, A4/2)\n",
    "ax.add_patch(patches.Circle((xc, yc), phi/2))\n",
    "\n",
    "# Primeiro Pilão\n",
    "coords1 = [(xc-B1p, yc), (xc, yc-B1p),(xc+B1p, yc), (xc, yc+B1p)]\n",
    "ax.add_patch(patches.Polygon(coords1, fill=False, ls='-.'))\n",
    "for coord1 in coords1:\n",
    "    ax.add_patch(patches.Circle(coord1, d/2))\n",
    "\n",
    "# Segundo Pilão\n",
    "coords2 = [(xc-A2/2, yc-A2/2), (xc+A2/2, yc-A2/2), (xc+A2/2, yc+A2/2), (xc-A2/2, yc+A2/2)]\n",
    "ax.add_patch(patches.Polygon(coords2, fill=False, ls='-.'))\n",
    "for coord2 in coords2:\n",
    "    ax.add_patch(patches.Circle(coord2, d/2))\n",
    "\n",
    "# Terceiro Pilão\n",
    "coords3 = [(xc-(B3p+A2/2), yc), (xc, yc-(B3p+A2/2)),(xc+(B3p+A2/2), yc), (xc, yc+(B3p+A2/2))]\n",
    "ax.add_patch(patches.Polygon(coords3, fill=False, ls='-.'))\n",
    "for coord3 in coords3:\n",
    "    ax.add_patch(patches.Circle(coord3, d/2))\n",
    "\n",
    "# Quarto Pilão\n",
    "coords4 = [(xc-A4/2, yc-A4/2), (xc+A4/2, yc-A4/2), (xc+A4/2, yc+A4/2), (xc-A4/2, yc+A4/2)]\n",
    "ax.add_patch(patches.Polygon(coords4, fill=False, ls='-.'))\n",
    "for coord4 in coords4:\n",
    "    ax.add_patch(patches.Circle(coord4, d/2))\n",
    "\n",
    "plt.savefig('pilao.png')\n",
    "plt.show()"
   ]
  }
 ],
 "metadata": {
  "kernelspec": {
   "display_name": "Python 3",
   "language": "python",
   "name": "python3"
  },
  "language_info": {
   "codemirror_mode": {
    "name": "ipython",
    "version": 3
   },
   "file_extension": ".py",
   "mimetype": "text/x-python",
   "name": "python",
   "nbconvert_exporter": "python",
   "pygments_lexer": "ipython3",
   "version": "3.6.1"
  }
 },
 "nbformat": 4,
 "nbformat_minor": 2
}
