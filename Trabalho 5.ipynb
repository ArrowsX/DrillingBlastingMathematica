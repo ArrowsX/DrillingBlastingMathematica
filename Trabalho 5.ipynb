{
 "cells": [
  {
   "cell_type": "code",
   "execution_count": 1,
   "metadata": {
    "collapsed": true
   },
   "outputs": [],
   "source": [
    "import math\n",
    "import numpy as np\n",
    "import seaborn as sns\n",
    "import matplotlib as mpl\n",
    "import matplotlib.pyplot as plt\n",
    "import matplotlib.patches as patches\n",
    "%matplotlib inline\n",
    "\n",
    "mpl.rcParams['figure.figsize'] = (10, 10)"
   ]
  },
  {
   "cell_type": "markdown",
   "metadata": {},
   "source": [
    "## Dados"
   ]
  },
  {
   "cell_type": "code",
   "execution_count": 2,
   "metadata": {
    "collapsed": true
   },
   "outputs": [],
   "source": [
    "d = 45 / 1000\n",
    "phi = 89 / 1000\n",
    "\n",
    "Wt = 6\n",
    "Ht = 4\n",
    "At = 0.5\n",
    "gama = math.radians(3)\n",
    "\n",
    "alfa = 0.01\n",
    "beta = 0.02\n",
    "c = 0.4\n",
    "\n",
    "Qv = 5\n",
    "Vgas= 0.8\n",
    "\n",
    "dEx = 1400\n",
    "phiEx = [0.025, 0.032, 0.038]\n",
    "LEx = 0.6"
   ]
  },
  {
   "cell_type": "code",
   "execution_count": 3,
   "metadata": {},
   "outputs": [
    {
     "name": "stdout",
     "output_type": "stream",
     "text": [
      "Hole diameter = 45 mm\n",
      "Empty hole = 89 mm \n",
      "Tunnel width = 6.0 m\n",
      "Abutment height = 4.0 m\n",
      "Height of arch = 0.5 m\n",
      "Smooth blasting in the roof\n",
      "Lookout for contour holes = 3 (0.05 rad)\n",
      "Angular deviation = 0.01 m/m\n",
      "Collar deviation = 0.02 m\n",
      "Heat of explosion = 5.0 MJ/kg\n",
      "Gas volume at STP = 0.80 m3/kg\n",
      "Density = 1400 kg/m3\n",
      "Rock constant = 0.4\n"
     ]
    }
   ],
   "source": [
    "print('Hole diameter = %d mm' % (d * 1000))\n",
    "print('Empty hole = %d mm ' % (phi * 1000))\n",
    "print('Tunnel width = %.1f m' % Wt)\n",
    "print('Abutment height = %.1f m' % Ht)\n",
    "print('Height of arch = %.1f m' % At)\n",
    "print('Smooth blasting in the roof')\n",
    "print('Lookout for contour holes = %d (%.2f rad)' % (math.degrees(gama), gama))\n",
    "print('Angular deviation = %.2f m/m' % alfa)\n",
    "print('Collar deviation = %.2f m' % beta)\n",
    "print('Heat of explosion = %.1f MJ/kg' % Qv)\n",
    "print('Gas volume at STP = %.2f m3/kg' % Vgas)\n",
    "print('Density = %d kg/m3' % dEx)\n",
    "print('Rock constant = %.1f' % c)"
   ]
  },
  {
   "cell_type": "markdown",
   "metadata": {},
   "source": [
    "## Cálculo sobre os explosivos"
   ]
  },
  {
   "cell_type": "code",
   "execution_count": 4,
   "metadata": {
    "collapsed": true
   },
   "outputs": [],
   "source": [
    "Qvo = 5\n",
    "Vgaso = 0.85\n",
    "SLFBanfo = 0.84\n",
    "SLFB = (5*Qv)/(6*Qvo) + Vgas/(6*Vgaso)\n",
    "Sanfo = SLFB / SLFBanfo\n",
    "lEx = [(math.pi * (phi/2)**2 * dEx) for phi in phiEx]"
   ]
  },
  {
   "cell_type": "code",
   "execution_count": 5,
   "metadata": {},
   "outputs": [
    {
     "name": "stdout",
     "output_type": "stream",
     "text": [
      "SFLB = 0.99\n",
      "Sanfo = 1.18\n",
      "Charge concentration\n",
      "Φ(mm) 25 32 38\n",
      "ℓ(kg/m) 0.69 1.13 1.59\n"
     ]
    }
   ],
   "source": [
    "print('SFLB = %.2f' % SLFB)\n",
    "print('Sanfo = %.2f' % Sanfo)\n",
    "print('Charge concentration')\n",
    "print('Φ(mm)', *[int(1000*x) for x in phiEx], sep=' ')\n",
    "print('ℓ(kg/m)', *[round(x, 2) for x in lEx], sep=' ')"
   ]
  },
  {
   "cell_type": "markdown",
   "metadata": {},
   "source": [
    "## Avanço"
   ]
  },
  {
   "cell_type": "code",
   "execution_count": 6,
   "metadata": {
    "collapsed": true
   },
   "outputs": [],
   "source": [
    "H = 0.15 + 34.1 * phi - 39.3 * phi ** 2\n",
    "Ia = 0.95 * H"
   ]
  },
  {
   "cell_type": "code",
   "execution_count": 7,
   "metadata": {},
   "outputs": [
    {
     "name": "stdout",
     "output_type": "stream",
     "text": [
      "Profundidade do furo = 2.9 m\n",
      "Avanço total = 2.7 m\n"
     ]
    }
   ],
   "source": [
    "print('Profundidade do furo = %.1f m' % H)\n",
    "print('Avanço total = %.1f m' %Ia)"
   ]
  },
  {
   "cell_type": "markdown",
   "metadata": {},
   "source": [
    "## Desvio de perfuração"
   ]
  },
  {
   "cell_type": "code",
   "execution_count": 8,
   "metadata": {
    "collapsed": true
   },
   "outputs": [],
   "source": [
    "F = alfa * H + beta\n",
    "deltaF = F / H * 100"
   ]
  },
  {
   "cell_type": "code",
   "execution_count": 9,
   "metadata": {},
   "outputs": [
    {
     "name": "stdout",
     "output_type": "stream",
     "text": [
      "Desvio de perfuração: 0.05\n",
      "Desvio de perfuração percentual: 1.70\n"
     ]
    }
   ],
   "source": [
    "print('Desvio de perfuração: %.2f' % F)\n",
    "print('Desvio de perfuração percentual: %.2f' % deltaF)"
   ]
  },
  {
   "cell_type": "markdown",
   "metadata": {},
   "source": [
    "## Pilão - funções de ajuda"
   ]
  },
  {
   "cell_type": "code",
   "execution_count": 10,
   "metadata": {
    "collapsed": true
   },
   "outputs": [],
   "source": [
    "def calculo_Bp(A, l):\n",
    "    return 0.088 * math.sqrt((A * l * Sanfo) / (d * c))\n",
    "\n",
    "def adequar_B(A):\n",
    "    B_lista = [calculo_Bp(A, l) for l in lEx]\n",
    "    r = [abs(2*A - B) for B in B_lista]\n",
    "    min_index = r.index(min(r))\n",
    "    return B_lista[min_index]\n",
    "\n",
    "def adequar_l(x):\n",
    "    r = [abs(x - l) for l in lEx]\n",
    "    min_index = r.index(min(r))\n",
    "    return lEx[min_index], phiEx[min_index]\n",
    "\n",
    "def arredondar_cartucho(x):\n",
    "    return int(5 * round(x/.5)) / 10"
   ]
  },
  {
   "cell_type": "markdown",
   "metadata": {},
   "source": [
    "## Pilão - Cartuchos"
   ]
  },
  {
   "cell_type": "code",
   "execution_count": 11,
   "metadata": {
    "collapsed": true
   },
   "outputs": [],
   "source": [
    "T = 10 * d\n",
    "nCEx = arredondar_cartucho((H - T) / LEx)"
   ]
  },
  {
   "cell_type": "markdown",
   "metadata": {
    "collapsed": true
   },
   "source": [
    "## Pilão - Primeiro Quadrilátero"
   ]
  },
  {
   "cell_type": "code",
   "execution_count": 12,
   "metadata": {
    "collapsed": true
   },
   "outputs": [],
   "source": [
    "B1 = 1.7 * phi\n",
    "B1p = 1.5 * phi if deltaF < 1 else 1.7 * phi - F\n",
    "A1 = math.sqrt(2) * B1p\n",
    "l1, t1 = adequar_l(55 * d * (B1/phi)**1.5 * (B1-phi/2) * (c/0.4) * (1/Sanfo))"
   ]
  },
  {
   "cell_type": "code",
   "execution_count": 13,
   "metadata": {},
   "outputs": [
    {
     "name": "stdout",
     "output_type": "stream",
     "text": [
      "Maximum burden B = 0.15 m\n",
      "Practical burden B1 = 0.10 m\n",
      "Charge concentration = 0.69 kg/m\n",
      "Unloaded hole length = 0.45 m\n",
      "Hole distance in quadrangle A' = 0.15 m\n",
      "No. of 25 x 600 cartriges = 4.0\n"
     ]
    }
   ],
   "source": [
    "print('Maximum burden B = %.2f m' % B1)\n",
    "print('Practical burden B1 = %.2f m' % B1p)\n",
    "print('Charge concentration = %.2f kg/m' % l1)\n",
    "print('Unloaded hole length = %.2f m' % T)\n",
    "print('Hole distance in quadrangle A\\' = %.2f m' % A1)\n",
    "print('No. of %d x %d cartriges = %.1f' % (t1*1000, LEx*1000, nCEx))"
   ]
  },
  {
   "cell_type": "markdown",
   "metadata": {},
   "source": [
    "## Pilão - Segundo Quadrilátero"
   ]
  },
  {
   "cell_type": "code",
   "execution_count": 14,
   "metadata": {
    "collapsed": true
   },
   "outputs": [],
   "source": [
    "A1_ = math.sqrt(2) * (B1p - F)\n",
    "B2 = adequar_B(A1_)\n",
    "B2p = B2 - F\n",
    "A2 = math.sqrt(2) * (B2p + A1/2)\n",
    "l2, t2 = adequar_l(55 * d * (B2/phi)**1.5 * (B2-phi/2) * (c/0.4) * (1/Sanfo))"
   ]
  },
  {
   "cell_type": "code",
   "execution_count": 15,
   "metadata": {},
   "outputs": [
    {
     "name": "stdout",
     "output_type": "stream",
     "text": [
      "A = 0.08 m\n",
      "Maximum burden B = 0.16 m\n",
      "Practical burden B2 = 0.11 m\n",
      "Charge concentration = 0.69 kg/m\n",
      "Unloaded hole length = 0.45 m\n",
      "Hole distance in quadrangle A' = 0.26 m\n",
      "No. of 25 x 600 cartriges = 4.0\n"
     ]
    }
   ],
   "source": [
    "print('A = %.2f m' % A1_)\n",
    "print('Maximum burden B = %.2f m' % B2)\n",
    "print('Practical burden B2 = %.2f m' % B2p)\n",
    "print('Charge concentration = %.2f kg/m' % l2)\n",
    "print('Unloaded hole length = %.2f m' % T)\n",
    "print('Hole distance in quadrangle A\\' = %.2f m' % A2)\n",
    "print('No. of %d x %d cartriges = %.1f' % (t2*1000, LEx*1000, nCEx))"
   ]
  },
  {
   "cell_type": "markdown",
   "metadata": {},
   "source": [
    "## Pilão - Terceiro Quadrilátero"
   ]
  },
  {
   "cell_type": "code",
   "execution_count": 16,
   "metadata": {
    "collapsed": true
   },
   "outputs": [],
   "source": [
    "A2_ = math.sqrt(2) * (B2p + A1/2 - F)\n",
    "B3 = adequar_B(A2_)\n",
    "B3p = B3 - F\n",
    "A3 = math.sqrt(2) * (B3p + A2/2)\n",
    "l3, t3 = adequar_l(55 * d * (B3/phi)**1.5 * (B3-phi/2) * (c/0.4) * (1/Sanfo))"
   ]
  },
  {
   "cell_type": "code",
   "execution_count": 17,
   "metadata": {},
   "outputs": [
    {
     "name": "stdout",
     "output_type": "stream",
     "text": [
      "A = 0.20 m\n",
      "Maximum burden B = 0.40 m\n",
      "Practical burden B3 = 0.35 m\n",
      "Charge concentration = 1.59 kg/m\n",
      "Unloaded hole length = 0.45 m\n",
      "Hole distance in quadrangle A' = 0.68 m\n",
      "No. of 38 x 600 cartriges = 4.0\n"
     ]
    }
   ],
   "source": [
    "print('A = %.2f m' % A2_)\n",
    "print('Maximum burden B = %.2f m' % B3)\n",
    "print('Practical burden B3 = %.2f m' % B3p)\n",
    "print('Charge concentration = %.2f kg/m' % l3)\n",
    "print('Unloaded hole length = %.2f m' % T)\n",
    "print('Hole distance in quadrangle A\\' = %.2f m' % A3)\n",
    "print('No. of %d x %d cartriges = %.1f' % (t3*1000, LEx*1000, nCEx))"
   ]
  },
  {
   "cell_type": "markdown",
   "metadata": {},
   "source": [
    "## Pilão - Quarto Quadrilátero"
   ]
  },
  {
   "cell_type": "code",
   "execution_count": 18,
   "metadata": {
    "collapsed": true
   },
   "outputs": [],
   "source": [
    "A3_ = math.sqrt(2) * (B3p + A2/2 - F)\n",
    "B4 = adequar_B(A3_)\n",
    "B4p = B4 - F\n",
    "A4 = math.sqrt(2) * (B4p + A3/2)\n",
    "l4, t4 = adequar_l(55 * d * (B4/phi)**1.5 * (B4-phi/2) * (c/0.4) * (1/Sanfo))"
   ]
  },
  {
   "cell_type": "code",
   "execution_count": 19,
   "metadata": {},
   "outputs": [
    {
     "name": "stdout",
     "output_type": "stream",
     "text": [
      "A = 0.61\n",
      "Maximum burden B = 0.70\n",
      "Practical burden B4 = 0.65\n",
      "Charge concentration = 1.59 kg/m\n",
      "Unloaded hole length = 0.45 m\n",
      "Hole distance in quadrangle A' = 1.40\n",
      "No. of 38 x 600 cartriges = 4.0\n"
     ]
    }
   ],
   "source": [
    "print('A = %.2f' % A3_)\n",
    "print('Maximum burden B = %.2f' % B4)\n",
    "print('Practical burden B4 = %.2f' % B4p)\n",
    "print('Charge concentration = %.2f kg/m' % l4)\n",
    "print('Unloaded hole length = %.2f m' % T)\n",
    "print('Hole distance in quadrangle A\\' = %.2f' % A4)\n",
    "print('No. of %d x %d cartriges = %.1f' % (t4*1000, LEx*1000, nCEx))"
   ]
  },
  {
   "cell_type": "markdown",
   "metadata": {},
   "source": [
    "## Furos de levante"
   ]
  },
  {
   "cell_type": "code",
   "execution_count": 20,
   "metadata": {
    "collapsed": true
   },
   "outputs": [],
   "source": [
    "lL = lEx[-1]\n",
    "f = 1.45\n",
    "B = 0.9 * math.sqrt(lL * Sanfo / (c * f))\n",
    "ccor = c + 0.05 if B >= 1.4 else c + 0.07 / B\n",
    "BL = 0.9 * math.sqrt(lL * Sanfo / (ccor * f))\n",
    "nL = math.ceil((Wt + 2*H*math.sin(gama)) // BL + 2)\n",
    "SL = (Wt + 2*H*math.sin(gama)) / (nL - 1)\n",
    "SL_corner = SL - H*math.sin(gama)\n",
    "BLp = BL - H*math.sin(gama) - F\n",
    "hbL = 1.25 * BLp\n",
    "hcL = H - hbL - 10*d"
   ]
  },
  {
   "cell_type": "code",
   "execution_count": 21,
   "metadata": {},
   "outputs": [
    {
     "name": "stdout",
     "output_type": "stream",
     "text": [
      "Maximum burden B = 1.52 m\n",
      "No. of lifters N = 6\n",
      "Spacing SL = 1.26 m\n",
      "Spacing, corner holes SL' = 1.11 m\n",
      "Practical burden BPL = 1.33 m\n",
      "Length of bottom charge hb = 1.66 m\n",
      "Length of column charge hb = 0.77 m\n"
     ]
    }
   ],
   "source": [
    "print('Maximum burden B = %.2f m' % BL)\n",
    "print('No. of lifters N = %d' % nL)\n",
    "print('Spacing SL = %.2f m' % SL)\n",
    "print('Spacing, corner holes SL\\' = %.2f m' % SL_corner)\n",
    "print('Practical burden BPL = %.2f m' % BLp)\n",
    "print('Length of bottom charge hb = %.2f m' % hbL)\n",
    "print('Length of column charge hb = %.2f m' % hcL)"
   ]
  },
  {
   "cell_type": "markdown",
   "metadata": {},
   "source": [
    "## Furo de contorno do teto"
   ]
  },
  {
   "cell_type": "code",
   "execution_count": 22,
   "metadata": {
    "collapsed": true
   },
   "outputs": [],
   "source": [
    "SB = 0.8\n",
    "Sct = 15 * d\n",
    "Bct = Sct / SB\n",
    "Bctp = Bct - H*math.sin(gama) - F\n",
    "lct_min = 90 * d**2\n",
    "lct, tct = adequar_l(lct_min)\n",
    "\n",
    "r_arco = (Wt**2 + 4*At**2) / (8*At)\n",
    "theta_arco = math.asin(Wt * (r_arco - At) / (r_arco ** 2))\n",
    "c_arco = r_arco * theta_arco\n",
    "\n",
    "nct = math.floor(c_arco / Sct + 2)"
   ]
  },
  {
   "cell_type": "code",
   "execution_count": 23,
   "metadata": {},
   "outputs": [
    {
     "name": "stdout",
     "output_type": "stream",
     "text": [
      "Spacing S = 0.67 m\n",
      "Burden B = 0.84 m\n",
      "Practical Burden BPR = 0.64\n",
      "No. of holes = 11\n",
      "Minimum charge concentration = 0.18 kg/m\n",
      "Length of arc = 6.1 m\n",
      "No. of 25 x 600 cartriges = 4.0\n"
     ]
    }
   ],
   "source": [
    "print('Spacing S = %.2f m' % Sct)\n",
    "print('Burden B = %.2f m' % Bct)\n",
    "print('Practical Burden BPR = %.2f' % Bctp)\n",
    "print('No. of holes = %d' % nct)\n",
    "print('Minimum charge concentration = %.2f kg/m' % lct_min)\n",
    "print('Length of arc = %.1f m' % c_arco)\n",
    "print('No. of %d x %d cartriges = %.1f' % (tct*1000, LEx*1000, nCEx))"
   ]
  },
  {
   "cell_type": "markdown",
   "metadata": {},
   "source": [
    "## Furos de contorno das paredes"
   ]
  },
  {
   "cell_type": "code",
   "execution_count": 24,
   "metadata": {
    "collapsed": true
   },
   "outputs": [],
   "source": [
    "lcp = lEx[-1]\n",
    "f = 1.2\n",
    "SB = 1.25\n",
    "ccp = Ht - BLp - Bctp\n",
    "Bcp = 0.9 * math.sqrt(lcp * Sanfo / (ccor * f * SB))\n",
    "Bcpp = Bcp - H*math.sin(gama) - F\n",
    "ncp = math.floor(ccp / (Bcp * SB) + 2)\n",
    "Scp = ccp / (ncp - 1)\n",
    "hbcp = 1.25 * Bcpp\n",
    "hccp = H - hbcp - 10*d"
   ]
  },
  {
   "cell_type": "code",
   "execution_count": 25,
   "metadata": {},
   "outputs": [
    {
     "name": "stdout",
     "output_type": "stream",
     "text": [
      "Remaining length = 2.03 m\n",
      "Maximum burden B = 1.50 m\n",
      "Practical burden BPW = 1.30 m\n",
      "No. of holes = 6\n",
      "Spacing = 1.02 m\n",
      "Length of bottom charge hb = 1.62 m\n",
      "Length of column charge hb = 0.80 m\n"
     ]
    }
   ],
   "source": [
    "print('Remaining length = %.2f m' % ccp)\n",
    "print('Maximum burden B = %.2f m' % Bcp)\n",
    "print('Practical burden BPW = %.2f m' % Bcpp)\n",
    "print('No. of holes = %d' % (2*ncp))\n",
    "print('Spacing = %.2f m' % Scp)\n",
    "print('Length of bottom charge hb = %.2f m' % hbcp)\n",
    "print('Length of column charge hb = %.2f m' % hccp)"
   ]
  },
  {
   "cell_type": "markdown",
   "metadata": {},
   "source": [
    "## Furos de expansão"
   ]
  },
  {
   "cell_type": "code",
   "execution_count": 26,
   "metadata": {
    "collapsed": true
   },
   "outputs": [],
   "source": [
    "le = lEx[-1]\n",
    "Wr = Wt - A4 - 2*Bcpp\n",
    "Hr = Ht + At - A4 - BLp - Bctp\n",
    "\n",
    "# Linhas horizontais\n",
    "f = 1.45\n",
    "SB = 1.25\n",
    "Belh = 0.9 * math.sqrt(le * Sanfo / (ccor * f * SB))\n",
    "Belhp = Belh - F\n",
    "Selh = Belh*SB if Belh*SB <= A4 else A4\n",
    "nhx = math.ceil(Wr / Selh)\n",
    "nhy = math.ceil(A4 / Selh + 1)\n",
    "nh = nhx * nhy\n",
    "\n",
    "# Linhas verticais\n",
    "f = 1.2\n",
    "SB = 1.25\n",
    "Belv = 0.9 * math.sqrt(le * Sanfo / (ccor * f * SB))\n",
    "Belvp = Belv - F\n",
    "Selv = Belv*SB if Belv*SB < Hr else Hr\n",
    "nvx = math.ceil((Wt-2*Bcpp) / Belvp + 1)\n",
    "nvy = math.ceil(Hr / Selv)\n",
    "nv = nvx * nvy"
   ]
  },
  {
   "cell_type": "code",
   "execution_count": 27,
   "metadata": {},
   "outputs": [
    {
     "name": "stdout",
     "output_type": "stream",
     "text": [
      "Linhas horizontais\n",
      "Remaining length for horizontal = 2.00 m\n",
      "Maximum burden B = 1.36 m\n",
      "Practical burden BPH = 1.31 m\n",
      "Spacing = 1.40 m\n",
      "No. of holes = 4\n",
      "\n",
      "Linhas verticais\n",
      "Remaining length for downward = 1.13 m\n",
      "Maximum burden B = 1.50\n",
      "Practical burden BPD = 1.45 m\n",
      "Spacing = 1.13 m\n",
      "No. of holes = 4\n"
     ]
    }
   ],
   "source": [
    "print('Linhas horizontais')\n",
    "print('Remaining length for horizontal = %.2f m' % Wr)\n",
    "print('Maximum burden B = %.2f m' % Belh)\n",
    "print('Practical burden BPH = %.2f m' % Belhp)\n",
    "print('Spacing = %.2f m' % Selh)\n",
    "print('No. of holes = %d' % nh)\n",
    "print()\n",
    "print('Linhas verticais')\n",
    "print('Remaining length for downward = %.2f m' % Hr)\n",
    "print('Maximum burden B = %.2f' % Belv)\n",
    "print('Practical burden BPD = %.2f m' % Belvp)\n",
    "print('Spacing = %.2f m' % Selv)\n",
    "print('No. of holes = %d' % nv)"
   ]
  },
  {
   "cell_type": "markdown",
   "metadata": {},
   "source": [
    "## Desenho do Pilão"
   ]
  },
  {
   "cell_type": "code",
   "execution_count": 28,
   "metadata": {},
   "outputs": [
    {
     "data": {
      "image/png": "[encoded data removed]",
      "text/plain": [
       "<matplotlib.figure.Figure at 0x110536668>"
      ]
     },
     "metadata": {},
     "output_type": "display_data"
    }
   ],
   "source": [
    "fig = plt.figure()\n",
    "ax = fig.add_subplot(111)\n",
    "\n",
    "plt.xlim(-0.1, Wt+0.1)\n",
    "plt.ylim(-0.1, Ht+At+0.1)\n",
    "\n",
    "# Furo vazio\n",
    "xc, yc = (Bcpp + A4/2, BLp + A4/2)\n",
    "ax.add_patch(patches.Circle((xc, yc), phi/2))\n",
    "\n",
    "# Primeiro Pilão\n",
    "coords1 = [(xc-B1p, yc), (xc, yc-B1p),(xc+B1p, yc), (xc, yc+B1p)]\n",
    "ax.add_patch(patches.Polygon(coords1, fill=False, ls='-.'))\n",
    "for coord1 in coords1:\n",
    "    ax.add_patch(patches.Circle(coord1, d/2))\n",
    "\n",
    "# Segundo Pilão\n",
    "coords2 = [(xc-A2/2, yc-A2/2), (xc+A2/2, yc-A2/2), (xc+A2/2, yc+A2/2), (xc-A2/2, yc+A2/2)]\n",
    "ax.add_patch(patches.Polygon(coords2, fill=False, ls='-.'))\n",
    "for coord2 in coords2:\n",
    "    ax.add_patch(patches.Circle(coord2, d/2))\n",
    "\n",
    "# Terceiro Pilão\n",
    "coords3 = [(xc-(B3p+A2/2), yc), (xc, yc-(B3p+A2/2)),(xc+(B3p+A2/2), yc), (xc, yc+(B3p+A2/2))]\n",
    "ax.add_patch(patches.Polygon(coords3, fill=False, ls='-.'))\n",
    "for coord3 in coords3:\n",
    "    ax.add_patch(patches.Circle(coord3, d/2))\n",
    "\n",
    "# Quarto Pilão\n",
    "coords4 = [(xc-A4/2, yc-A4/2), (xc+A4/2, yc-A4/2), (xc+A4/2, yc+A4/2), (xc-A4/2, yc+A4/2)]\n",
    "ax.add_patch(patches.Polygon(coords4, fill=False, ls='-.'))\n",
    "for coord4 in coords4:\n",
    "    ax.add_patch(patches.Circle(coord4, d/2))\n",
    "\n",
    "# Seção do Túnel\n",
    "theta1 = 90 - math.degrees(theta_arco) / 2\n",
    "theta2 = 180 - theta1\n",
    "coordst = [[0, Ht], [0, 0], [Wt, 0], [Wt, Ht]]\n",
    "ax.add_patch(patches.Polygon(coordst, fill=False, closed=False))\n",
    "ax.add_patch(patches.Arc((Wt/2, Ht+At-r_arco), 2*r_arco, 2*r_arco, theta1=theta1, theta2=theta2, fill=False))\n",
    "ax.add_patch(patches.Circle((0, 0), d/2))\n",
    "ax.add_patch(patches.Circle((Wt, 0), d/2))\n",
    "\n",
    "# Furos de Levante\n",
    "n = (nL-2)//2 if nL % 2 == 0 else (nL-1)//2\n",
    "leftL = (Wt/2-BLp/2) if nL % 2 == 0 else Wt/2\n",
    "rightL = (Wt/2+BLp/2) if nL % 2 == 0 else Wt/2\n",
    "for i in range(n):\n",
    "    ax.add_patch(patches.Circle((leftL-BLp*i, 0), d/2))\n",
    "    ax.add_patch(patches.Circle((rightL+BLp*i, 0), d/2))\n",
    "\n",
    "# Furos de Contorno do Teto\n",
    "n = nct//2 if nct % 2 == 0 else (nct+1)//2\n",
    "for i in range(n):\n",
    "    frac = (2*i+1)*theta_arco/(2*(nct-1)) if nct % 2 == 0 else i*theta_arco/(nct-1)\n",
    "    ax.add_patch(patches.Circle((Wt/2-r_arco*math.sin(frac), (Ht+At)-r_arco*(1-math.cos(frac))), d/2))\n",
    "    ax.add_patch(patches.Circle((Wt/2+r_arco*math.sin(frac), (Ht+At)-r_arco*(1-math.cos(frac))), d/2))\n",
    "    \n",
    "# Furos de Contorno das Paredes\n",
    "for i in range(ncp):\n",
    "    ax.add_patch(patches.Circle((0, SL_corner+Scp*i), d/2))\n",
    "    ax.add_patch(patches.Circle((Wt, SL_corner+Scp*i), d/2))\n",
    "\n",
    "# Furos de Expansão - Linhas horizontais    \n",
    "x_elh = Bcpp + A4 + Belhp\n",
    "y_elh = BLp\n",
    "for i in range(nhx):\n",
    "    for j in range(nhy):\n",
    "        ax.add_patch(patches.Circle((x_elh+Belhp*i, y_elh+Selh*j), d/2))\n",
    "\n",
    "# Furos de Expansão - Linhas verticais\n",
    "x_elv = Bcpp\n",
    "y_elv = BLp + A4 + Belvp\n",
    "for i in range(nvx):\n",
    "    for j in range(nvy):\n",
    "        ax.add_patch(patches.Circle((x_elv+Selv*i, y_elv+Belhp*j), d/2))\n",
    "\n",
    "plt.savefig('tunel.png')\n",
    "plt.show()"
   ]
  },
  {
   "cell_type": "markdown",
   "metadata": {},
   "source": [
    "## Relatório resumido"
   ]
  },
  {
   "cell_type": "code",
   "execution_count": 29,
   "metadata": {
    "collapsed": true,
    "scrolled": true
   },
   "outputs": [],
   "source": [
    "carga_total = 0\n",
    "n_total = 0\n",
    "\n",
    "tabela = [\n",
    "    {'title': '1st quad.', 'holes': 4, 'l': l1, 't': t1*1000},\n",
    "    {'title': '2nd quad.', 'holes': 4, 'l': l2, 't': t2*1000},\n",
    "    {'title': '3rd quad.', 'holes': 4, 'l': l3, 't': t3*1000},\n",
    "    {'title': '4th quad.', 'holes': 4, 'l': l4, 't': t4*1000},\n",
    "    {'title': 'Lifters', 'holes': nL, 'l': lL, 't': 38},\n",
    "    {'title': 'Roof', 'holes': nct, 'l': lct, 't': tct*1000},\n",
    "    {'title': 'Wall', 'holes': 2*ncp, 'l': lcp, 't': 38},\n",
    "    {'title': 'Stoping', 'holes': nv+nh, 'l': le, 't': 38},\n",
    "]\n",
    "\n",
    "for linha in tabela:\n",
    "    linha['charge'] = nCEx * LEx * linha['l']\n",
    "    carga_total += linha['holes'] * linha['charge']\n",
    "    n_total += linha['holes']\n",
    "\n",
    "area_total = Wt*Ht + theta_arco*r_arco**2/2 - Wt*(r_arco-At)/2\n",
    "carga_especifica = carga_total / (Ia * area_total)\n",
    "spec_drilling = H * n_total / (Ia * area_total)"
   ]
  },
  {
   "cell_type": "code",
   "execution_count": 30,
   "metadata": {},
   "outputs": [
    {
     "name": "stdout",
     "output_type": "stream",
     "text": [
      "Summary\n",
      "-----------------------------------\n",
      "Hole type: 1st quad.\n",
      "Number of holes = 4\n",
      "Number of cartridges (25 mm) = 4.0\n",
      "Charge per hole = 1.65 kg\n",
      "Total = 6.60 kg\n",
      "-----------------------------------\n",
      "Hole type: 2nd quad.\n",
      "Number of holes = 4\n",
      "Number of cartridges (25 mm) = 4.0\n",
      "Charge per hole = 1.65 kg\n",
      "Total = 6.60 kg\n",
      "-----------------------------------\n",
      "Hole type: 3rd quad.\n",
      "Number of holes = 4\n",
      "Number of cartridges (38 mm) = 4.0\n",
      "Charge per hole = 3.81 kg\n",
      "Total = 15.24 kg\n",
      "-----------------------------------\n",
      "Hole type: 4th quad.\n",
      "Number of holes = 4\n",
      "Number of cartridges (38 mm) = 4.0\n",
      "Charge per hole = 3.81 kg\n",
      "Total = 15.24 kg\n",
      "-----------------------------------\n",
      "Hole type: Lifters\n",
      "Number of holes = 6\n",
      "Number of cartridges (38 mm) = 4.0\n",
      "Charge per hole = 3.81 kg\n",
      "Total = 22.86 kg\n",
      "-----------------------------------\n",
      "Hole type: Roof\n",
      "Number of holes = 11\n",
      "Number of cartridges (25 mm) = 4.0\n",
      "Charge per hole = 1.65 kg\n",
      "Total = 18.14 kg\n",
      "-----------------------------------\n",
      "Hole type: Wall\n",
      "Number of holes = 6\n",
      "Number of cartridges (38 mm) = 4.0\n",
      "Charge per hole = 3.81 kg\n",
      "Total = 22.86 kg\n",
      "-----------------------------------\n",
      "Hole type: Stoping\n",
      "Number of holes = 8\n",
      "Number of cartridges (38 mm) = 4.0\n",
      "Charge per hole = 3.81 kg\n",
      "Total = 30.49 kg\n",
      "################################\n",
      "Total charge weight = 138.0 kg\n",
      "Cross-sectional area = 26.0 m2\n",
      "Advance = 2.7 m\n",
      "Total volume = 71.0 m3\n",
      "Specific charge = 1.9 kg/m3\n",
      "Total no. of holes = 47\n",
      "Hole depth = 2.9 m\n",
      "Specific drilling = 1.9 m/m3\n",
      "################################\n"
     ]
    }
   ],
   "source": [
    "print('Summary')\n",
    "for linha in tabela:\n",
    "    print('-----------------------------------')\n",
    "    print('Hole type: %s' % linha['title'])\n",
    "    print('Number of holes = %d' % linha['holes'])\n",
    "    print('Number of cartridges (%d mm) = %.1f' %(linha['t'], nCEx))\n",
    "    print('Charge per hole = %.2f kg' % linha['charge'])\n",
    "    print('Total = %.2f kg' % (linha['holes'] * linha['charge']))\n",
    "\n",
    "print('################################')\n",
    "print('Total charge weight = %.1f kg' % carga_total)\n",
    "print('Cross-sectional area = %.1f m2' % area_total)\n",
    "print('Advance = %.1f m' % Ia)\n",
    "print('Total volume = %.1f m3' % (Ia*area_total))\n",
    "print('Specific charge = %.1f kg/m3' % carga_especifica)\n",
    "print('Total no. of holes = %d' % n_total)\n",
    "print('Hole depth = %.1f m' % H)\n",
    "print('Specific drilling = %.1f m/m3' % spec_drilling)\n",
    "print('################################')"
   ]
  }
 ],
 "metadata": {
  "kernelspec": {
   "display_name": "Python 3",
   "language": "python",
   "name": "python3"
  },
  "language_info": {
   "codemirror_mode": {
    "name": "ipython",
    "version": 3
   },
   "file_extension": ".py",
   "mimetype": "text/x-python",
   "name": "python",
   "nbconvert_exporter": "python",
   "pygments_lexer": "ipython3",
   "version": "3.6.1"
  }
 },
 "nbformat": 4,
 "nbformat_minor": 2
}
